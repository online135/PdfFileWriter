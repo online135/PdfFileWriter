{
 "cells": [
  {
   "cell_type": "code",
   "execution_count": 3,
   "metadata": {},
   "outputs": [],
   "source": [
    "from PyPDF2 import PdfFileReader, PdfFileWriter\n",
    "readFile = 'test.pdf'\n",
    "pdfFileReader = PdfFileReader(readFile, strict=False)\n",
    "#或者用個方式\n",
    "# pdfFileReader = PdfFileReader(open(readFile, 'rb'))\n",
    "outFile = 'class.pdf'\n",
    "pdfFileWriter = PdfFileWriter()\n",
    "numPages = pdfFileReader.getNumPages()\n",
    "for index in range(0, numPages):\n",
    "    pageObj = pdfFileReader.getPage(index)\n",
    "    pdfFileWriter.addPage(pageObj)\n",
    "    pdfFileWriter.write(open(outFile, 'wb'))\n",
    "pdfFileWriter.addBlankPage()\n",
    "pdfFileWriter.write(open(outFile,'wb'))"
   ]
  },
  {
   "cell_type": "code",
   "execution_count": null,
   "metadata": {},
   "outputs": [],
   "source": []
  }
 ],
 "metadata": {
  "kernelspec": {
   "display_name": "Python 3",
   "language": "python",
   "name": "python3"
  },
  "language_info": {
   "codemirror_mode": {
    "name": "ipython",
    "version": 3
   },
   "file_extension": ".py",
   "mimetype": "text/x-python",
   "name": "python",
   "nbconvert_exporter": "python",
   "pygments_lexer": "ipython3",
   "version": "3.7.4"
  }
 },
 "nbformat": 4,
 "nbformat_minor": 2
}
